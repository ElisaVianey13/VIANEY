{
 "cells": [
  {
   "cell_type": "markdown",
   "metadata": {},
   "source": [
    "###  Menginput Dataset"
   ]
  },
  {
   "cell_type": "code",
   "execution_count": 1,
   "metadata": {},
   "outputs": [
    {
     "data": {
      "text/html": [
       "<div>\n",
       "<style scoped>\n",
       "    .dataframe tbody tr th:only-of-type {\n",
       "        vertical-align: middle;\n",
       "    }\n",
       "\n",
       "    .dataframe tbody tr th {\n",
       "        vertical-align: top;\n",
       "    }\n",
       "\n",
       "    .dataframe thead th {\n",
       "        text-align: right;\n",
       "    }\n",
       "</style>\n",
       "<table border=\"1\" class=\"dataframe\">\n",
       "  <thead>\n",
       "    <tr style=\"text-align: right;\">\n",
       "      <th></th>\n",
       "      <th>Kabupaten/Kota</th>\n",
       "      <th>Sekolah</th>\n",
       "      <th>Murid</th>\n",
       "      <th>Guru</th>\n",
       "    </tr>\n",
       "  </thead>\n",
       "  <tbody>\n",
       "    <tr>\n",
       "      <th>0</th>\n",
       "      <td>Pacitan</td>\n",
       "      <td>417</td>\n",
       "      <td>39422</td>\n",
       "      <td>3748</td>\n",
       "    </tr>\n",
       "    <tr>\n",
       "      <th>1</th>\n",
       "      <td>Ponorogo</td>\n",
       "      <td>600</td>\n",
       "      <td>61557</td>\n",
       "      <td>5438</td>\n",
       "    </tr>\n",
       "    <tr>\n",
       "      <th>2</th>\n",
       "      <td>Trenggalek</td>\n",
       "      <td>442</td>\n",
       "      <td>45890</td>\n",
       "      <td>3783</td>\n",
       "    </tr>\n",
       "    <tr>\n",
       "      <th>3</th>\n",
       "      <td>Tulungagung</td>\n",
       "      <td>667</td>\n",
       "      <td>80106</td>\n",
       "      <td>7169</td>\n",
       "    </tr>\n",
       "    <tr>\n",
       "      <th>4</th>\n",
       "      <td>Blitar</td>\n",
       "      <td>698</td>\n",
       "      <td>75424</td>\n",
       "      <td>5942</td>\n",
       "    </tr>\n",
       "  </tbody>\n",
       "</table>\n",
       "</div>"
      ],
      "text/plain": [
       "  Kabupaten/Kota  Sekolah  Murid  Guru\n",
       "0        Pacitan      417  39422  3748\n",
       "1       Ponorogo      600  61557  5438\n",
       "2     Trenggalek      442  45890  3783\n",
       "3    Tulungagung      667  80106  7169\n",
       "4         Blitar      698  75424  5942"
      ]
     },
     "execution_count": 1,
     "metadata": {},
     "output_type": "execute_result"
    }
   ],
   "source": [
    "import pandas as pd\n",
    "import numpy as np\n",
    "import statistics as st\n",
    "\n",
    "elisa=pd.read_csv('D:/KAMPUS/MATA KULIAH/SEMESTER 5/KOMPUTASI STATISTIKA/TUGAS STATDES/sekolah.csv', sep=\";\")\n",
    "elisa.head()"
   ]
  },
  {
   "cell_type": "code",
   "execution_count": 2,
   "metadata": {},
   "outputs": [
    {
     "name": "stdout",
     "output_type": "stream",
     "text": [
      "   Kabupaten/Kota  Sekolah   Murid   Guru\n",
      "0         Pacitan      417   39422   3748\n",
      "1        Ponorogo      600   61557   5438\n",
      "2      Trenggalek      442   45890   3783\n",
      "3     Tulungagung      667   80106   7169\n",
      "4          Blitar      698   75424   5942\n",
      "5          Kediri      671  111138   6528\n",
      "6          Malang     1164  181843   9887\n",
      "7        Lumajang      553   72145   4930\n",
      "8          Jember     1026  180282  10179\n",
      "9      Banyuwangi      823  117788   7331\n",
      "10      Bondowoso      507   57824   5240\n",
      "11      Situbondo      443   48724   5534\n",
      "12    Probolinggo      636   78318   5227\n",
      "13       Pasuruan      719  123393   6996\n",
      "14       Sidoarjo      568  158042   8114\n",
      "15      Mojokerto      414   66593   5634\n",
      "16        Jombang      549   75261   5328\n",
      "17        Nganjuk      646   81919   5466\n",
      "18         Madiun      419   43289   3656\n",
      "19        Magetan      497   41752   3877\n",
      "20          Ngawi      538   55792   4775\n",
      "21     Bojonegoro      738   78943   6207\n",
      "22          Tuban      577   72268   5336\n",
      "23       Lamongan      635   55433   5525\n",
      "24         Gresik      450   76584   4730\n",
      "25      Bangkalan      709  105177   5673\n",
      "26        Sampang      623   74133   5425\n",
      "27      Pamekasan      474   60546   5555\n",
      "28        Sumenep      649   60061   6657\n",
      "29         Kediri      140   28672   1503\n",
      "30         Blitar       62   15196    807\n",
      "31         Malang      272   74375   3868\n",
      "32    Probolinggo      105   20325   1032\n",
      "33       Pasuruan       65   19216    982\n",
      "34      Mojokerto       61   13335    692\n",
      "35         Madiun       70   15070    822\n",
      "36       Surabaya      704  241564  12088\n",
      "37           Batu       76   15374    928\n"
     ]
    }
   ],
   "source": [
    "print(elisa)"
   ]
  },
  {
   "cell_type": "markdown",
   "metadata": {},
   "source": [
    "###  Ukuran Pemusatan (rata-rata, median, modus)"
   ]
  },
  {
   "cell_type": "code",
   "execution_count": 3,
   "metadata": {},
   "outputs": [
    {
     "name": "stdout",
     "output_type": "stream",
     "text": [
      "510.7105263157895\n",
      "551.0\n",
      "417\n",
      "510.7105263157895\n",
      "551.0\n",
      "510.7105263157895\n",
      "551.0\n"
     ]
    }
   ],
   "source": [
    "#SEKOLAH\n",
    "#menggunakan library statistics\n",
    "print(st.mean(elisa['Sekolah']))                          #mencari rata-rata\n",
    "print(st.median(elisa['Sekolah']))                        #mencari median\n",
    "print(st.mode(elisa['Sekolah']))                          #mencari modus\n",
    "\n",
    "#menggunakan library pandas\n",
    "elisa1=pd.DataFrame (elisa)                    \n",
    "print(elisa1['Sekolah'].mean())\n",
    "print(elisa1['Sekolah'].median())\n",
    "\n",
    "#Menggunakan library numpy\n",
    "elisa2=np.array(elisa['Sekolah'])                        \n",
    "print(elisa2.mean())\n",
    "print(np.median(elisa2))"
   ]
  },
  {
   "cell_type": "code",
   "execution_count": 4,
   "metadata": {},
   "outputs": [
    {
     "name": "stdout",
     "output_type": "stream",
     "text": [
      "74283.52631578948\n",
      "69369.0\n",
      "39422\n",
      "74283.52631578948\n",
      "69369.0\n",
      "74283.52631578948\n",
      "69369.0\n"
     ]
    }
   ],
   "source": [
    "#MURID\n",
    "#menggunakan library statistics\n",
    "print(st.mean(elisa['Murid']))                          #mencari rata-rata\n",
    "print(st.median(elisa['Murid']))                        #mencari median\n",
    "print(st.mode(elisa['Murid']))                          #mencari modus\n",
    "\n",
    "#menggunakan library pandas\n",
    "elisa1=pd.DataFrame (elisa)                    \n",
    "print(elisa1['Murid'].mean())\n",
    "print(elisa1['Murid'].median())\n",
    "\n",
    "#Menggunakan library numpy\n",
    "elisa2=np.array(elisa['Murid'])                        \n",
    "print(elisa2.mean())\n",
    "print(np.median(elisa2))"
   ]
  },
  {
   "cell_type": "code",
   "execution_count": 5,
   "metadata": {},
   "outputs": [
    {
     "name": "stdout",
     "output_type": "stream",
     "text": [
      "5068.736842105263\n",
      "5380.5\n",
      "3748\n",
      "5068.736842105263\n",
      "5380.5\n",
      "5068.736842105263\n",
      "5380.5\n"
     ]
    }
   ],
   "source": [
    "#GURU\n",
    "#menggunakan library statistics\n",
    "print(st.mean(elisa['Guru']))                          #mencari rata-rata\n",
    "print(st.median(elisa['Guru']))                        #mencari median\n",
    "print(st.mode(elisa['Guru']))                          #mencari modus\n",
    "\n",
    "#menggunakan library pandas\n",
    "elisa1=pd.DataFrame (elisa)                    \n",
    "print(elisa1['Guru'].mean())\n",
    "print(elisa1['Guru'].median())\n",
    "\n",
    "#Menggunakan library numpy\n",
    "elisa2=np.array(elisa['Guru'])                        \n",
    "print(elisa2.mean())\n",
    "print(np.median(elisa2))"
   ]
  },
  {
   "cell_type": "code",
   "execution_count": 6,
   "metadata": {},
   "outputs": [
    {
     "name": "stdout",
     "output_type": "stream",
     "text": [
      "Blitar\n",
      "0         Blitar\n",
      "1         Kediri\n",
      "2         Madiun\n",
      "3         Malang\n",
      "4      Mojokerto\n",
      "5       Pasuruan\n",
      "6    Probolinggo\n",
      "dtype: object\n"
     ]
    }
   ],
   "source": [
    "#Kabupaten/Kota\n",
    "#menggunakan library statistics\n",
    "print(st.mode(elisa['Kabupaten/Kota']))                          #mencari modus\n",
    "\n",
    "#menggunakan library pandas\n",
    "print(elisa1['Kabupaten/Kota'].mode())   "
   ]
  },
  {
   "cell_type": "markdown",
   "metadata": {},
   "source": [
    "###  Ukuran Keragaman (varians dan standar deviasi)"
   ]
  },
  {
   "cell_type": "code",
   "execution_count": 7,
   "metadata": {},
   "outputs": [
    {
     "name": "stdout",
     "output_type": "stream",
     "text": [
      "68462.69772403983\n",
      "261.65377452664393\n",
      "261.65377452664393\n",
      "66661.0477839335\n",
      "258.1880085982568\n"
     ]
    }
   ],
   "source": [
    "#SEKOLAH\n",
    "#menggunakan library statistics\n",
    "print(st.variance(elisa['Sekolah']))                      #mencari varians\n",
    "print(st.stdev(elisa['Sekolah']))                         #mencari standar deviasi\n",
    "\n",
    "#menggunakan library pandas\n",
    "elisa1=pd.DataFrame (elisa['Sekolah'])                    \n",
    "print(elisa1['Sekolah'].std())\n",
    "\n",
    "#Menggunakan library numpy\n",
    "elisa2=np.array(elisa['Sekolah'])                        \n",
    "print(np.var(elisa2))\n",
    "print(np.std(elisa2))"
   ]
  },
  {
   "cell_type": "code",
   "execution_count": 8,
   "metadata": {},
   "outputs": [
    {
     "name": "stdout",
     "output_type": "stream",
     "text": [
      "2514796473.0668564\n",
      "50147.746440561576\n",
      "50147.746440561576\n",
      "2448617618.512465\n",
      "49483.50855095529\n"
     ]
    }
   ],
   "source": [
    "#Murid\n",
    "#menggunakan library statistics\n",
    "print(st.variance(elisa['Murid']))                      #mencari varians\n",
    "print(st.stdev(elisa['Murid']))                         #mencari standar deviasi\n",
    "\n",
    "#menggunakan library pandas\n",
    "elisa1=pd.DataFrame (elisa['Murid'])                    \n",
    "print(elisa1['Murid'].std())\n",
    "\n",
    "#Menggunakan library numpy\n",
    "elisa2=np.array(elisa['Murid'])                        \n",
    "print(np.var(elisa2))\n",
    "print(np.std(elisa2))"
   ]
  },
  {
   "cell_type": "code",
   "execution_count": 9,
   "metadata": {},
   "outputs": [
    {
     "name": "stdout",
     "output_type": "stream",
     "text": [
      "6931701.712660029\n",
      "2632.812509971044\n",
      "2632.8125099710437\n",
      "6749288.50969529\n",
      "2597.939281371928\n"
     ]
    }
   ],
   "source": [
    "#Guru\n",
    "#menggunakan library statistics\n",
    "print(st.variance(elisa['Guru']))                      #mencari varians\n",
    "print(st.stdev(elisa['Guru']))                         #mencari standar deviasi\n",
    "\n",
    "#menggunakan library pandas\n",
    "elisa1=pd.DataFrame (elisa['Guru'])                    \n",
    "print(elisa1['Guru'].std())\n",
    "\n",
    "#Menggunakan library numpy\n",
    "elisa2=np.array(elisa['Guru'])                        \n",
    "print(np.var(elisa2))\n",
    "print(np.std(elisa2))"
   ]
  },
  {
   "cell_type": "code",
   "execution_count": null,
   "metadata": {},
   "outputs": [],
   "source": []
  }
 ],
 "metadata": {
  "kernelspec": {
   "display_name": "Python 3",
   "language": "python",
   "name": "python3"
  },
  "language_info": {
   "codemirror_mode": {
    "name": "ipython",
    "version": 3
   },
   "file_extension": ".py",
   "mimetype": "text/x-python",
   "name": "python",
   "nbconvert_exporter": "python",
   "pygments_lexer": "ipython3",
   "version": "3.8.5"
  }
 },
 "nbformat": 4,
 "nbformat_minor": 4
}
