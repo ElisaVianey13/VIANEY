{
 "cells": [
  {
   "cell_type": "markdown",
   "metadata": {},
   "source": [
    "### Menginput Dataset"
   ]
  },
  {
   "cell_type": "code",
   "execution_count": 1,
   "metadata": {},
   "outputs": [
    {
     "data": {
      "text/html": [
       "<div>\n",
       "<style scoped>\n",
       "    .dataframe tbody tr th:only-of-type {\n",
       "        vertical-align: middle;\n",
       "    }\n",
       "\n",
       "    .dataframe tbody tr th {\n",
       "        vertical-align: top;\n",
       "    }\n",
       "\n",
       "    .dataframe thead th {\n",
       "        text-align: right;\n",
       "    }\n",
       "</style>\n",
       "<table border=\"1\" class=\"dataframe\">\n",
       "  <thead>\n",
       "    <tr style=\"text-align: right;\">\n",
       "      <th></th>\n",
       "      <th>Kabupaten/Kota Se Jawa Timur</th>\n",
       "      <th>IPM</th>\n",
       "      <th>Harapan Lama Sekolah</th>\n",
       "      <th>Pengeluaran Per Kapita</th>\n",
       "      <th>Rata rata Lama Sekolah</th>\n",
       "      <th>Angka Harapan Hidup</th>\n",
       "    </tr>\n",
       "  </thead>\n",
       "  <tbody>\n",
       "    <tr>\n",
       "      <th>0</th>\n",
       "      <td>Kabupaten Pacitan</td>\n",
       "      <td>67</td>\n",
       "      <td>13</td>\n",
       "      <td>852700</td>\n",
       "      <td>7</td>\n",
       "      <td>71</td>\n",
       "    </tr>\n",
       "    <tr>\n",
       "      <th>1</th>\n",
       "      <td>Kabupaten Ponorogo</td>\n",
       "      <td>70</td>\n",
       "      <td>14</td>\n",
       "      <td>942600</td>\n",
       "      <td>7</td>\n",
       "      <td>72</td>\n",
       "    </tr>\n",
       "    <tr>\n",
       "      <th>2</th>\n",
       "      <td>Kabupaten Trenggalek</td>\n",
       "      <td>69</td>\n",
       "      <td>12</td>\n",
       "      <td>9400</td>\n",
       "      <td>7</td>\n",
       "      <td>73</td>\n",
       "    </tr>\n",
       "    <tr>\n",
       "      <th>3</th>\n",
       "      <td>Kabupaten Tulungagung</td>\n",
       "      <td>72</td>\n",
       "      <td>13</td>\n",
       "      <td>1045500</td>\n",
       "      <td>8</td>\n",
       "      <td>74</td>\n",
       "    </tr>\n",
       "    <tr>\n",
       "      <th>4</th>\n",
       "      <td>Kabupaten Blitar</td>\n",
       "      <td>70</td>\n",
       "      <td>12</td>\n",
       "      <td>1032700</td>\n",
       "      <td>7</td>\n",
       "      <td>73</td>\n",
       "    </tr>\n",
       "  </tbody>\n",
       "</table>\n",
       "</div>"
      ],
      "text/plain": [
       "  Kabupaten/Kota Se Jawa Timur  IPM  Harapan Lama Sekolah  \\\n",
       "0            Kabupaten Pacitan   67                    13   \n",
       "1           Kabupaten Ponorogo   70                    14   \n",
       "2         Kabupaten Trenggalek   69                    12   \n",
       "3        Kabupaten Tulungagung   72                    13   \n",
       "4             Kabupaten Blitar   70                    12   \n",
       "\n",
       "   Pengeluaran Per Kapita  Rata rata Lama Sekolah  Angka Harapan Hidup  \n",
       "0                  852700                       7                   71  \n",
       "1                  942600                       7                   72  \n",
       "2                    9400                       7                   73  \n",
       "3                 1045500                       8                   74  \n",
       "4                 1032700                       7                   73  "
      ]
     },
     "execution_count": 1,
     "metadata": {},
     "output_type": "execute_result"
    }
   ],
   "source": [
    "import pandas as pd\n",
    "import numpy as np\n",
    "import statistics as st\n",
    "\n",
    "elisa=pd.read_csv('D:/KAMPUS/MATA KULIAH/SEMESTER 5/KOMPUTASI STATISTIKA/TUGAS STATDES/IPM.csv',sep=\";\")\n",
    "elisa.head()"
   ]
  },
  {
   "cell_type": "markdown",
   "metadata": {},
   "source": [
    "### Ukuran Pemusatan (Rata-rata, Median, Modus)"
   ]
  },
  {
   "cell_type": "code",
   "execution_count": 2,
   "metadata": {},
   "outputs": [
    {
     "name": "stdout",
     "output_type": "stream",
     "text": [
      "70.89473684210526\n",
      "70.5\n",
      "65\n",
      "70.89473684210526\n",
      "70.5\n",
      "0    65\n",
      "dtype: int64\n",
      "70.89473684210526\n",
      "70.5\n"
     ]
    }
   ],
   "source": [
    "#IPM\n",
    "#menggunakan library statistics\n",
    "print(st.mean(elisa['IPM']))                          #mencari rata-rata\n",
    "print(st.median(elisa['IPM']))                        #mencari median\n",
    "print(st.mode(elisa['IPM']))                          #mencari modus\n",
    "\n",
    "#menggunakan library pandas\n",
    "elisa1=pd.DataFrame (elisa)                    \n",
    "print(elisa1['IPM'].mean())\n",
    "print(elisa1['IPM'].median())\n",
    "print(elisa1['IPM'].mode())\n",
    "\n",
    "#Menggunakan library numpy\n",
    "elisa2=np.array(elisa['IPM'])                        \n",
    "print(elisa2.mean())\n",
    "print(np.median(elisa2))"
   ]
  },
  {
   "cell_type": "code",
   "execution_count": 3,
   "metadata": {},
   "outputs": [
    {
     "name": "stdout",
     "output_type": "stream",
     "text": [
      "13.210526315789474\n",
      "13.0\n",
      "13\n",
      "13.210526315789474\n",
      "13.0\n",
      "0    13\n",
      "dtype: int64\n",
      "13.210526315789474\n",
      "13.0\n"
     ]
    }
   ],
   "source": [
    "#Harapan Lama Sekolah\n",
    "#menggunakan library statistics\n",
    "print(st.mean(elisa['Harapan Lama Sekolah']))                       #mencari rata-rata\n",
    "print(st.median(elisa['Harapan Lama Sekolah']))                     #mencari median\n",
    "print(st.mode(elisa['Harapan Lama Sekolah']))                       #mencari modus\n",
    "\n",
    "#menggunakan library pandas\n",
    "elisa1=pd.DataFrame (elisa)                    \n",
    "print(elisa1['Harapan Lama Sekolah'].mean())\n",
    "print(elisa1['Harapan Lama Sekolah'].median())\n",
    "print(elisa1['Harapan Lama Sekolah'].mode())\n",
    "\n",
    "#Menggunakan library numpy\n",
    "elisa2=np.array(elisa['Harapan Lama Sekolah'])                        \n",
    "print(elisa2.mean())\n",
    "print(np.median(elisa2))"
   ]
  },
  {
   "cell_type": "code",
   "execution_count": 4,
   "metadata": {},
   "outputs": [
    {
     "name": "stdout",
     "output_type": "stream",
     "text": [
      "1095757.894736842\n",
      "1092600.0\n",
      "852700\n",
      "1095757.894736842\n",
      "1092600.0\n",
      "1095757.894736842\n",
      "1092600.0\n"
     ]
    }
   ],
   "source": [
    "#Pengeluaran Per Kapita\n",
    "#menggunakan library statistics\n",
    "print(st.mean(elisa['Pengeluaran Per Kapita']))                       #mencari rata-rata\n",
    "print(st.median(elisa['Pengeluaran Per Kapita']))                     #mencari median\n",
    "print(st.mode(elisa['Pengeluaran Per Kapita']))                       #mencari modus\n",
    "\n",
    "#menggunakan library pandas\n",
    "elisa1=pd.DataFrame (elisa)                    \n",
    "print(elisa1['Pengeluaran Per Kapita'].mean())\n",
    "print(elisa1['Pengeluaran Per Kapita'].median())\n",
    "\n",
    "#Menggunakan library numpy\n",
    "elisa2=np.array(elisa['Pengeluaran Per Kapita'])                        \n",
    "print(elisa2.mean())\n",
    "print(np.median(elisa2))"
   ]
  },
  {
   "cell_type": "code",
   "execution_count": 5,
   "metadata": {},
   "outputs": [
    {
     "name": "stdout",
     "output_type": "stream",
     "text": [
      "7.578947368421052\n",
      "7.0\n",
      "7\n",
      "7.578947368421052\n",
      "7.0\n",
      "0    7\n",
      "dtype: int64\n",
      "7.578947368421052\n",
      "7.0\n"
     ]
    }
   ],
   "source": [
    "#Rata rata Lama Sekolah\n",
    "#menggunakan library statistics\n",
    "print(st.mean(elisa['Rata rata Lama Sekolah']))                       #mencari rata-rata\n",
    "print(st.median(elisa['Rata rata Lama Sekolah']))                     #mencari median\n",
    "print(st.mode(elisa['Rata rata Lama Sekolah']))                       #mencari modus\n",
    "\n",
    "#menggunakan library pandas\n",
    "elisa1=pd.DataFrame (elisa)                    \n",
    "print(elisa1['Rata rata Lama Sekolah'].mean())\n",
    "print(elisa1['Rata rata Lama Sekolah'].median())\n",
    "print(elisa1['Rata rata Lama Sekolah'].mode())\n",
    "\n",
    "#Menggunakan library numpy\n",
    "elisa2=np.array(elisa['Rata rata Lama Sekolah'])                        \n",
    "print(elisa2.mean())\n",
    "print(np.median(elisa2))"
   ]
  },
  {
   "cell_type": "code",
   "execution_count": 6,
   "metadata": {},
   "outputs": [
    {
     "name": "stdout",
     "output_type": "stream",
     "text": [
      "71.21052631578948\n",
      "72.0\n",
      "72\n",
      "71.21052631578948\n",
      "72.0\n",
      "0    72\n",
      "dtype: int64\n",
      "71.21052631578948\n",
      "72.0\n"
     ]
    }
   ],
   "source": [
    "#Angka Harapan Hidup\n",
    "#menggunakan library statistics\n",
    "print(st.mean(elisa['Angka Harapan Hidup']))                       #mencari rata-rata\n",
    "print(st.median(elisa['Angka Harapan Hidup']))                     #mencari median\n",
    "print(st.mode(elisa['Angka Harapan Hidup']))                       #mencari modus\n",
    "\n",
    "#menggunakan library pandas\n",
    "elisa1=pd.DataFrame (elisa)                    \n",
    "print(elisa1['Angka Harapan Hidup'].mean())\n",
    "print(elisa1['Angka Harapan Hidup'].median())\n",
    "print(elisa1['Angka Harapan Hidup'].mode())\n",
    "\n",
    "#Menggunakan library numpy\n",
    "elisa2=np.array(elisa['Angka Harapan Hidup'])                        \n",
    "print(elisa2.mean())\n",
    "print(np.median(elisa2))"
   ]
  },
  {
   "cell_type": "markdown",
   "metadata": {},
   "source": [
    "### Ukuran Keragaman (Varians dan Standar Deviasi) "
   ]
  },
  {
   "cell_type": "code",
   "execution_count": 7,
   "metadata": {},
   "outputs": [
    {
     "name": "stdout",
     "output_type": "stream",
     "text": [
      "27.39402560455192\n",
      "5.233930225418746\n",
      "5.233930225418745\n"
     ]
    }
   ],
   "source": [
    "#IPM\n",
    "#menggunakan library statistics\n",
    "print(st.variance(elisa['IPM']))                      #mencari varians\n",
    "print(st.stdev(elisa['IPM']))                         #mencari standar deviasi\n",
    "\n",
    "#menggunakan library pandas\n",
    "elisa1=pd.DataFrame (elisa['IPM'])                    \n",
    "print(elisa1['IPM'].std())"
   ]
  },
  {
   "cell_type": "code",
   "execution_count": 8,
   "metadata": {},
   "outputs": [
    {
     "name": "stdout",
     "output_type": "stream",
     "text": [
      "0.9274537695590327\n",
      "0.9630440122647732\n",
      "0.9630440122647731\n"
     ]
    }
   ],
   "source": [
    "#Harapan Lama Sekolah\n",
    "#menggunakan library statistics\n",
    "print(st.variance(elisa['Harapan Lama Sekolah']))                      #mencari varians\n",
    "print(st.stdev(elisa['Harapan Lama Sekolah']))                         #mencari standar deviasi\n",
    "\n",
    "#menggunakan library pandas\n",
    "elisa1=pd.DataFrame (elisa['Harapan Lama Sekolah'])                    \n",
    "print(elisa1['Harapan Lama Sekolah'].std())"
   ]
  },
  {
   "cell_type": "code",
   "execution_count": 9,
   "metadata": {},
   "outputs": [
    {
     "name": "stdout",
     "output_type": "stream",
     "text": [
      "77765025746.79942\n",
      "278863.8121858041\n",
      "278863.81218580407\n"
     ]
    }
   ],
   "source": [
    "#Pengeluaran Per Kapita\n",
    "#menggunakan library statistics\n",
    "print(st.variance(elisa['Pengeluaran Per Kapita']))                      #mencari varians\n",
    "print(st.stdev(elisa['Pengeluaran Per Kapita']))                         #mencari standar deviasi\n",
    "\n",
    "#menggunakan library pandas\n",
    "elisa1=pd.DataFrame (elisa['Pengeluaran Per Kapita'])                    \n",
    "print(elisa1['Pengeluaran Per Kapita'].std())"
   ]
  },
  {
   "cell_type": "code",
   "execution_count": 10,
   "metadata": {},
   "outputs": [
    {
     "name": "stdout",
     "output_type": "stream",
     "text": [
      "2.736842105263158\n",
      "1.6543403837370223\n",
      "1.6543403837370223\n"
     ]
    }
   ],
   "source": [
    "#Rata rata Lama Sekolah\n",
    "#menggunakan library statistics\n",
    "print(st.variance(elisa['Rata rata Lama Sekolah']))                      #mencari varians\n",
    "print(st.stdev(elisa['Rata rata Lama Sekolah']))                         #mencari standar deviasi\n",
    "\n",
    "#menggunakan library pandas\n",
    "elisa1=pd.DataFrame (elisa['Rata rata Lama Sekolah'])                    \n",
    "print(elisa1['Rata rata Lama Sekolah'].std())"
   ]
  },
  {
   "cell_type": "code",
   "execution_count": 11,
   "metadata": {},
   "outputs": [
    {
     "name": "stdout",
     "output_type": "stream",
     "text": [
      "3.8463726884779517\n",
      "1.9612171446522568\n",
      "1.9612171446522564\n"
     ]
    }
   ],
   "source": [
    "#Angka Harapan Hidup\n",
    "#menggunakan library statistics\n",
    "print(st.variance(elisa['Angka Harapan Hidup']))                      #mencari varians\n",
    "print(st.stdev(elisa['Angka Harapan Hidup']))                         #mencari standar deviasi\n",
    "\n",
    "#menggunakan library pandas\n",
    "elisa1=pd.DataFrame (elisa['Angka Harapan Hidup'])                    \n",
    "print(elisa1['Angka Harapan Hidup'].std())"
   ]
  },
  {
   "cell_type": "code",
   "execution_count": null,
   "metadata": {},
   "outputs": [],
   "source": []
  }
 ],
 "metadata": {
  "kernelspec": {
   "display_name": "Python 3",
   "language": "python",
   "name": "python3"
  },
  "language_info": {
   "codemirror_mode": {
    "name": "ipython",
    "version": 3
   },
   "file_extension": ".py",
   "mimetype": "text/x-python",
   "name": "python",
   "nbconvert_exporter": "python",
   "pygments_lexer": "ipython3",
   "version": "3.8.5"
  }
 },
 "nbformat": 4,
 "nbformat_minor": 4
}
